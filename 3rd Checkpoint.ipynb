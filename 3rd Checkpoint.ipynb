{
 "cells": [
  {
   "cell_type": "code",
   "execution_count": 1,
   "id": "0df1e94b",
   "metadata": {},
   "outputs": [],
   "source": [
    "#question1"
   ]
  },
  {
   "cell_type": "code",
   "execution_count": 4,
   "id": "56fe1c37",
   "metadata": {},
   "outputs": [
    {
     "name": "stdout",
     "output_type": "stream",
     "text": [
      "36\n"
     ]
    }
   ],
   "source": [
    "def multlist(items):\n",
    "    result=1\n",
    "    for i in items:\n",
    "        result*=i\n",
    "    return result\n",
    "print(multlist([2,3,6]))"
   ]
  },
  {
   "cell_type": "code",
   "execution_count": 5,
   "id": "0ebf98db",
   "metadata": {},
   "outputs": [],
   "source": [
    "#question2"
   ]
  },
  {
   "cell_type": "code",
   "execution_count": 6,
   "id": "2950f9c9",
   "metadata": {},
   "outputs": [
    {
     "name": "stdout",
     "output_type": "stream",
     "text": [
      "[(2, 1), (1, 2), (2, 3), (4, 4), (2, 5)]\n"
     ]
    }
   ],
   "source": [
    "def last(a): return a[-1]  \n",
    "def l_list(tuples):\n",
    "    return sorted(tuples, key=last)  \n",
    "print(l_list([(2, 5), (1, 2), (4, 4), (2, 3), (2, 1)]))  "
   ]
  },
  {
   "cell_type": "code",
   "execution_count": 7,
   "id": "c8964ea2",
   "metadata": {},
   "outputs": [],
   "source": [
    "#question3"
   ]
  },
  {
   "cell_type": "code",
   "execution_count": 8,
   "id": "34e9ed5d",
   "metadata": {},
   "outputs": [
    {
     "name": "stdout",
     "output_type": "stream",
     "text": [
      "{'a': 400, 'b': 400, 'c': 300, 'd': 400}\n"
     ]
    }
   ],
   "source": [
    "d1={'a':100,'b':200,'c':300}\n",
    "d2={'a':300,'b':200,'d':400}\n",
    "for i in d2:\n",
    "    if i in d1:\n",
    "        d1[ i ]=d1[i]+d2[i]\n",
    "    else:\n",
    "        d1[i]=d2[i]\n",
    "print(d1)"
   ]
  },
  {
   "cell_type": "code",
   "execution_count": 9,
   "id": "fca6a03c",
   "metadata": {},
   "outputs": [],
   "source": [
    "#question4"
   ]
  },
  {
   "cell_type": "code",
   "execution_count": 11,
   "id": "1aed4db3",
   "metadata": {},
   "outputs": [
    {
     "name": "stdout",
     "output_type": "stream",
     "text": [
      ": 8\n",
      "{1: 1, 2: 4, 3: 9, 4: 16, 5: 25, 6: 36, 7: 49, 8: 64}\n"
     ]
    }
   ],
   "source": [
    "num=int(input(\": \"))\n",
    "numdict = {}\n",
    "for i in range(1, num+1):\n",
    "    numdict[i]=i*i\n",
    "print(numdict)"
   ]
  },
  {
   "cell_type": "code",
   "execution_count": 12,
   "id": "68c7418a",
   "metadata": {},
   "outputs": [],
   "source": [
    "#question5"
   ]
  },
  {
   "cell_type": "code",
   "execution_count": 13,
   "id": "f9851b11",
   "metadata": {},
   "outputs": [
    {
     "name": "stdout",
     "output_type": "stream",
     "text": [
      "[('item3', '24.5'), ('item2', '15.10'), ('item1', '12.20')]\n"
     ]
    }
   ],
   "source": [
    "p=[('item1', '12.20'), ('item2', '15.10'), ('item3', '24.5')]\n",
    "print(sorted(p,key=lambda x:float(x[1]),reverse=True))"
   ]
  },
  {
   "cell_type": "code",
   "execution_count": null,
   "id": "1eb4daa2",
   "metadata": {},
   "outputs": [],
   "source": []
  }
 ],
 "metadata": {
  "kernelspec": {
   "display_name": "Python 3 (ipykernel)",
   "language": "python",
   "name": "python3"
  },
  "language_info": {
   "codemirror_mode": {
    "name": "ipython",
    "version": 3
   },
   "file_extension": ".py",
   "mimetype": "text/x-python",
   "name": "python",
   "nbconvert_exporter": "python",
   "pygments_lexer": "ipython3",
   "version": "3.9.12"
  }
 },
 "nbformat": 4,
 "nbformat_minor": 5
}
